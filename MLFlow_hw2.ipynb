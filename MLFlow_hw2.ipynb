{
 "cells": [
  {
   "cell_type": "code",
   "execution_count": 4,
   "id": "58492ee4-3c32-4ee8-a9e9-130881db1813",
   "metadata": {},
   "outputs": [],
   "source": [
    "from sklearn.linear_model import LinearRegression\n",
    "from sklearn.ensemble import RandomForestRegressor\n",
    "from sklearn.tree import DecisionTreeRegressor\n",
    "from sklearn.model_selection import train_test_split\n",
    "from sklearn.metrics import mean_squared_error, median_absolute_error, r2_score\n",
    "from sklearn.preprocessing import StandardScaler\n",
    "from sklearn.datasets import fetch_california_housing\n",
    "from typing import Any, Dict, Literal\n",
    "\n",
    "from datetime import datetime, timedelta\n",
    "import pandas as pd\n",
    "import numpy as np\n",
    "import pickle\n",
    "import json\n",
    "import logging\n",
    "import io\n",
    "\n",
    "import mlflow\n",
    "from mlflow.tracking import MlflowClient\n",
    "from mlflow.models import infer_signature\n",
    "from mlflow.store.artifact.artifact_repository_registry import get_artifact_repository\n",
    "import os"
   ]
  },
  {
   "cell_type": "code",
   "execution_count": 5,
   "id": "a11a035a-34aa-45bd-b211-240d054bd056",
   "metadata": {},
   "outputs": [
    {
     "data": {
      "text/plain": [
       "'http://mlflow-service:5000'"
      ]
     },
     "execution_count": 5,
     "metadata": {},
     "output_type": "execute_result"
    }
   ],
   "source": [
    "os.getenv(\"MLFLOW_TRACKING_URI\", \"No env\")"
   ]
  },
  {
   "cell_type": "code",
   "execution_count": 6,
   "id": "761ec665-f8c4-4bc3-915e-5d29946dab41",
   "metadata": {},
   "outputs": [
    {
     "data": {
      "text/plain": [
       "'http://mlflow-service:5000'"
      ]
     },
     "execution_count": 6,
     "metadata": {},
     "output_type": "execute_result"
    }
   ],
   "source": [
    "mlflow.get_registry_uri()"
   ]
  },
  {
   "cell_type": "code",
   "execution_count": 8,
   "id": "96f0458f-6e53-44ab-a703-69417009a872",
   "metadata": {},
   "outputs": [],
   "source": [
    "exp_name = \"Lyubov_Guzhvina\"\n",
    "my_experiment = mlflow.create_experiment(name = exp_name, artifact_location = 's3://lubguzh/mlflow')"
   ]
  },
  {
   "cell_type": "code",
   "execution_count": 17,
   "id": "3cc55a12-c40c-4db6-b294-016c98ad1fe5",
   "metadata": {},
   "outputs": [
    {
     "data": {
      "text/plain": [
       "'556672555723861289'"
      ]
     },
     "execution_count": 17,
     "metadata": {},
     "output_type": "execute_result"
    }
   ],
   "source": [
    "my_experiment"
   ]
  },
  {
   "cell_type": "code",
   "execution_count": 9,
   "id": "66755adc-2bc9-4331-a677-34d18560c847",
   "metadata": {},
   "outputs": [
    {
     "data": {
      "text/plain": [
       "[<Experiment: artifact_location='s3://lubguzh/mlflow', creation_time=1729017813557, experiment_id='556672555723861289', last_update_time=1729017813557, lifecycle_stage='active', name='Lyubov_Guzhvina', tags={}>]"
      ]
     },
     "execution_count": 9,
     "metadata": {},
     "output_type": "execute_result"
    }
   ],
   "source": [
    "mlflow.search_experiments(\n",
    "    filter_string=\"name = 'Lyubov_Guzhvina'\"\n",
    ")"
   ]
  },
  {
   "cell_type": "code",
   "execution_count": 10,
   "id": "3783574c-f420-432d-8390-9c0cda2db8de",
   "metadata": {},
   "outputs": [
    {
     "data": {
      "text/plain": [
       "<Experiment: artifact_location='s3://lubguzh/mlflow', creation_time=1729017813557, experiment_id='556672555723861289', last_update_time=1729017813557, lifecycle_stage='active', name='Lyubov_Guzhvina', tags={}>"
      ]
     },
     "execution_count": 10,
     "metadata": {},
     "output_type": "execute_result"
    }
   ],
   "source": [
    "mlflow.set_experiment(experiment_name = exp_name)"
   ]
  },
  {
   "cell_type": "code",
   "execution_count": 11,
   "id": "2d6fa0ac-5671-4ad7-a66d-9f9aab3b5aef",
   "metadata": {},
   "outputs": [
    {
     "data": {
      "text/plain": [
       "[<Experiment: artifact_location='s3://lubguzh/mlflow', creation_time=1729017813557, experiment_id='556672555723861289', last_update_time=1729017813557, lifecycle_stage='active', name='Lyubov_Guzhvina', tags={}>,\n",
       " <Experiment: artifact_location='s3://lubguzh/mlflow/0', creation_time=1729016202921, experiment_id='0', last_update_time=1729016202921, lifecycle_stage='active', name='Default', tags={}>]"
      ]
     },
     "execution_count": 11,
     "metadata": {},
     "output_type": "execute_result"
    }
   ],
   "source": [
    "mlflow.search_experiments()"
   ]
  },
  {
   "cell_type": "code",
   "execution_count": 55,
   "id": "d3aa2c38-6cc5-4bf4-85a6-853fcb13a898",
   "metadata": {},
   "outputs": [],
   "source": [
    "model_names = [\"random_forest\", \"linear_regression\", \"desicion_tree\"]\n",
    "models = dict(\n",
    "    zip(model_names, [\n",
    "        RandomForestRegressor(),\n",
    "        LinearRegression(),\n",
    "        DecisionTreeRegressor(),\n",
    "    ]))\n",
    "\n",
    "housing = fetch_california_housing(as_frame=True)\n",
    "\n",
    "X_train, X_test, y_train, y_test = train_test_split(housing['data'], housing['target'])\n",
    "X_val, X_test, y_val, y_test = train_test_split(X_test, y_test, test_size=0.5)\n",
    "\n",
    "# scaler = StandardScaler()\n",
    "# X_train_fitted = pd.DataFrame(scaler.fit_transform(X_train))\n",
    "# X_test_fitted = pd.DataFrame(scaler.transform(X_test))\n",
    "# X_val_fitted = pd.DataFrame(scaler.transform(X_val))"
   ]
  },
  {
   "cell_type": "code",
   "execution_count": 53,
   "id": "79c14cd4-e1d7-42b0-bd3a-f5516c098dea",
   "metadata": {},
   "outputs": [
    {
     "data": {
      "text/html": [
       "<div>\n",
       "<style scoped>\n",
       "    .dataframe tbody tr th:only-of-type {\n",
       "        vertical-align: middle;\n",
       "    }\n",
       "\n",
       "    .dataframe tbody tr th {\n",
       "        vertical-align: top;\n",
       "    }\n",
       "\n",
       "    .dataframe thead th {\n",
       "        text-align: right;\n",
       "    }\n",
       "</style>\n",
       "<table border=\"1\" class=\"dataframe\">\n",
       "  <thead>\n",
       "    <tr style=\"text-align: right;\">\n",
       "      <th></th>\n",
       "      <th>0</th>\n",
       "      <th>1</th>\n",
       "      <th>2</th>\n",
       "      <th>3</th>\n",
       "      <th>4</th>\n",
       "      <th>5</th>\n",
       "      <th>6</th>\n",
       "      <th>7</th>\n",
       "    </tr>\n",
       "  </thead>\n",
       "  <tbody>\n",
       "    <tr>\n",
       "      <th>0</th>\n",
       "      <td>-0.042425</td>\n",
       "      <td>0.899984</td>\n",
       "      <td>-0.306601</td>\n",
       "      <td>-0.407787</td>\n",
       "      <td>-0.141719</td>\n",
       "      <td>-0.044996</td>\n",
       "      <td>0.987689</td>\n",
       "      <td>-1.465845</td>\n",
       "    </tr>\n",
       "    <tr>\n",
       "      <th>1</th>\n",
       "      <td>-0.555584</td>\n",
       "      <td>-0.532579</td>\n",
       "      <td>-0.049642</td>\n",
       "      <td>-0.241712</td>\n",
       "      <td>-0.245776</td>\n",
       "      <td>-0.066390</td>\n",
       "      <td>1.931851</td>\n",
       "      <td>-1.031488</td>\n",
       "    </tr>\n",
       "    <tr>\n",
       "      <th>2</th>\n",
       "      <td>-0.081068</td>\n",
       "      <td>0.183703</td>\n",
       "      <td>-0.461441</td>\n",
       "      <td>-0.073274</td>\n",
       "      <td>-0.202343</td>\n",
       "      <td>-0.123703</td>\n",
       "      <td>-0.863243</td>\n",
       "      <td>0.715924</td>\n",
       "    </tr>\n",
       "    <tr>\n",
       "      <th>3</th>\n",
       "      <td>0.130341</td>\n",
       "      <td>-1.089686</td>\n",
       "      <td>0.053957</td>\n",
       "      <td>0.030122</td>\n",
       "      <td>2.146630</td>\n",
       "      <td>0.026168</td>\n",
       "      <td>-0.783783</td>\n",
       "      <td>1.045436</td>\n",
       "    </tr>\n",
       "    <tr>\n",
       "      <th>4</th>\n",
       "      <td>-1.316016</td>\n",
       "      <td>-0.452992</td>\n",
       "      <td>-0.590352</td>\n",
       "      <td>0.238076</td>\n",
       "      <td>0.287177</td>\n",
       "      <td>-0.039828</td>\n",
       "      <td>1.342918</td>\n",
       "      <td>-0.956599</td>\n",
       "    </tr>\n",
       "    <tr>\n",
       "      <th>...</th>\n",
       "      <td>...</td>\n",
       "      <td>...</td>\n",
       "      <td>...</td>\n",
       "      <td>...</td>\n",
       "      <td>...</td>\n",
       "      <td>...</td>\n",
       "      <td>...</td>\n",
       "      <td>...</td>\n",
       "    </tr>\n",
       "    <tr>\n",
       "      <th>15475</th>\n",
       "      <td>0.064066</td>\n",
       "      <td>-1.010099</td>\n",
       "      <td>-0.117971</td>\n",
       "      <td>-0.187995</td>\n",
       "      <td>-0.362501</td>\n",
       "      <td>-0.091927</td>\n",
       "      <td>-0.919331</td>\n",
       "      <td>0.880680</td>\n",
       "    </tr>\n",
       "    <tr>\n",
       "      <th>15476</th>\n",
       "      <td>0.117705</td>\n",
       "      <td>1.297918</td>\n",
       "      <td>0.236153</td>\n",
       "      <td>-0.050096</td>\n",
       "      <td>-0.490988</td>\n",
       "      <td>-0.043884</td>\n",
       "      <td>-0.839872</td>\n",
       "      <td>0.695954</td>\n",
       "    </tr>\n",
       "    <tr>\n",
       "      <th>15477</th>\n",
       "      <td>-0.350310</td>\n",
       "      <td>-1.089686</td>\n",
       "      <td>3.046775</td>\n",
       "      <td>3.050960</td>\n",
       "      <td>-1.163287</td>\n",
       "      <td>-0.040352</td>\n",
       "      <td>-0.844546</td>\n",
       "      <td>2.288595</td>\n",
       "    </tr>\n",
       "    <tr>\n",
       "      <th>15478</th>\n",
       "      <td>0.692420</td>\n",
       "      <td>0.581637</td>\n",
       "      <td>0.051476</td>\n",
       "      <td>-0.205804</td>\n",
       "      <td>-0.433983</td>\n",
       "      <td>0.006020</td>\n",
       "      <td>-0.839872</td>\n",
       "      <td>0.601094</td>\n",
       "    </tr>\n",
       "    <tr>\n",
       "      <th>15479</th>\n",
       "      <td>-0.981233</td>\n",
       "      <td>1.855025</td>\n",
       "      <td>-0.348680</td>\n",
       "      <td>-0.065791</td>\n",
       "      <td>-0.605904</td>\n",
       "      <td>-0.098443</td>\n",
       "      <td>1.917828</td>\n",
       "      <td>-1.131340</td>\n",
       "    </tr>\n",
       "  </tbody>\n",
       "</table>\n",
       "<p>15480 rows × 8 columns</p>\n",
       "</div>"
      ],
      "text/plain": [
       "              0         1         2         3         4         5         6  \\\n",
       "0     -0.042425  0.899984 -0.306601 -0.407787 -0.141719 -0.044996  0.987689   \n",
       "1     -0.555584 -0.532579 -0.049642 -0.241712 -0.245776 -0.066390  1.931851   \n",
       "2     -0.081068  0.183703 -0.461441 -0.073274 -0.202343 -0.123703 -0.863243   \n",
       "3      0.130341 -1.089686  0.053957  0.030122  2.146630  0.026168 -0.783783   \n",
       "4     -1.316016 -0.452992 -0.590352  0.238076  0.287177 -0.039828  1.342918   \n",
       "...         ...       ...       ...       ...       ...       ...       ...   \n",
       "15475  0.064066 -1.010099 -0.117971 -0.187995 -0.362501 -0.091927 -0.919331   \n",
       "15476  0.117705  1.297918  0.236153 -0.050096 -0.490988 -0.043884 -0.839872   \n",
       "15477 -0.350310 -1.089686  3.046775  3.050960 -1.163287 -0.040352 -0.844546   \n",
       "15478  0.692420  0.581637  0.051476 -0.205804 -0.433983  0.006020 -0.839872   \n",
       "15479 -0.981233  1.855025 -0.348680 -0.065791 -0.605904 -0.098443  1.917828   \n",
       "\n",
       "              7  \n",
       "0     -1.465845  \n",
       "1     -1.031488  \n",
       "2      0.715924  \n",
       "3      1.045436  \n",
       "4     -0.956599  \n",
       "...         ...  \n",
       "15475  0.880680  \n",
       "15476  0.695954  \n",
       "15477  2.288595  \n",
       "15478  0.601094  \n",
       "15479 -1.131340  \n",
       "\n",
       "[15480 rows x 8 columns]"
      ]
     },
     "execution_count": 53,
     "metadata": {},
     "output_type": "execute_result"
    }
   ],
   "source": [
    "X_train_fitted"
   ]
  },
  {
   "cell_type": "code",
   "execution_count": 54,
   "id": "1dc2f5b3-25bd-4715-9ebe-2ec3457fbf4e",
   "metadata": {},
   "outputs": [
    {
     "name": "stderr",
     "output_type": "stream",
     "text": [
      "/opt/conda/lib/python3.11/site-packages/_distutils_hack/__init__.py:18: UserWarning: Distutils was imported before Setuptools, but importing Setuptools also replaces the `distutils` module in `sys.modules`. This may lead to undesirable behaviors or errors. To avoid these issues, avoid using distutils directly, ensure that setuptools is installed in the traditional way (e.g. not an editable install), and/or make sure that setuptools is always imported before distutils.\n",
      "  warnings.warn(\n",
      "/opt/conda/lib/python3.11/site-packages/_distutils_hack/__init__.py:33: UserWarning: Setuptools is replacing distutils.\n",
      "  warnings.warn(\"Setuptools is replacing distutils.\")\n",
      "Registered model 'sk-learn-random_forest-reg-model' already exists. Creating a new version of this model...\n",
      "2024/10/15 19:49:15 INFO mlflow.store.model_registry.abstract_store: Waiting up to 300 seconds for model version to finish creation. Model name: sk-learn-random_forest-reg-model, version 11\n",
      "Created version '11' of model 'sk-learn-random_forest-reg-model'.\n"
     ]
    },
    {
     "data": {
      "application/vnd.jupyter.widget-view+json": {
       "model_id": "88281c7351524c5098c06ef39221a93f",
       "version_major": 2,
       "version_minor": 0
      },
      "text/plain": [
       "Downloading artifacts:   0%|          | 0/5 [00:00<?, ?it/s]"
      ]
     },
     "metadata": {},
     "output_type": "display_data"
    },
    {
     "name": "stderr",
     "output_type": "stream",
     "text": [
      "2024/10/15 19:49:29 INFO mlflow.models.evaluation.default_evaluator: Computing model predictions.\n",
      "2024/10/15 19:49:29 INFO mlflow.models.evaluation.default_evaluator: Testing metrics on first row...\n",
      "2024/10/15 19:49:29 WARNING mlflow.models.evaluation.default_evaluator: SHAP or matplotlib package is not installed, so model explainability insights will not be logged.\n",
      "2024/10/15 19:49:29 INFO mlflow.tracking._tracking_service.client: 🏃 View run random_forest at: http://mlflow-service:5000/#/experiments/556672555723861289/runs/f7486b91eaab42cf953ec4c2b07ad83d.\n",
      "2024/10/15 19:49:29 INFO mlflow.tracking._tracking_service.client: 🧪 View experiment at: http://mlflow-service:5000/#/experiments/556672555723861289.\n",
      "/opt/conda/lib/python3.11/site-packages/_distutils_hack/__init__.py:18: UserWarning: Distutils was imported before Setuptools, but importing Setuptools also replaces the `distutils` module in `sys.modules`. This may lead to undesirable behaviors or errors. To avoid these issues, avoid using distutils directly, ensure that setuptools is installed in the traditional way (e.g. not an editable install), and/or make sure that setuptools is always imported before distutils.\n",
      "  warnings.warn(\n",
      "/opt/conda/lib/python3.11/site-packages/_distutils_hack/__init__.py:33: UserWarning: Setuptools is replacing distutils.\n",
      "  warnings.warn(\"Setuptools is replacing distutils.\")\n",
      "Registered model 'sk-learn-linear_regression-reg-model' already exists. Creating a new version of this model...\n",
      "2024/10/15 19:49:31 INFO mlflow.store.model_registry.abstract_store: Waiting up to 300 seconds for model version to finish creation. Model name: sk-learn-linear_regression-reg-model, version 3\n",
      "Created version '3' of model 'sk-learn-linear_regression-reg-model'.\n"
     ]
    },
    {
     "data": {
      "application/vnd.jupyter.widget-view+json": {
       "model_id": "3ee4f78e91184d538f74a229a74ccebd",
       "version_major": 2,
       "version_minor": 0
      },
      "text/plain": [
       "Downloading artifacts:   0%|          | 0/5 [00:00<?, ?it/s]"
      ]
     },
     "metadata": {},
     "output_type": "display_data"
    },
    {
     "name": "stderr",
     "output_type": "stream",
     "text": [
      "2024/10/15 19:49:31 INFO mlflow.models.evaluation.default_evaluator: Computing model predictions.\n",
      "2024/10/15 19:49:31 INFO mlflow.models.evaluation.default_evaluator: Testing metrics on first row...\n",
      "2024/10/15 19:49:31 WARNING mlflow.models.evaluation.default_evaluator: SHAP or matplotlib package is not installed, so model explainability insights will not be logged.\n",
      "2024/10/15 19:49:31 INFO mlflow.tracking._tracking_service.client: 🏃 View run linear_regression at: http://mlflow-service:5000/#/experiments/556672555723861289/runs/26572ed6155643808e79ecb39e0c45ae.\n",
      "2024/10/15 19:49:31 INFO mlflow.tracking._tracking_service.client: 🧪 View experiment at: http://mlflow-service:5000/#/experiments/556672555723861289.\n",
      "/opt/conda/lib/python3.11/site-packages/_distutils_hack/__init__.py:18: UserWarning: Distutils was imported before Setuptools, but importing Setuptools also replaces the `distutils` module in `sys.modules`. This may lead to undesirable behaviors or errors. To avoid these issues, avoid using distutils directly, ensure that setuptools is installed in the traditional way (e.g. not an editable install), and/or make sure that setuptools is always imported before distutils.\n",
      "  warnings.warn(\n",
      "/opt/conda/lib/python3.11/site-packages/_distutils_hack/__init__.py:33: UserWarning: Setuptools is replacing distutils.\n",
      "  warnings.warn(\"Setuptools is replacing distutils.\")\n",
      "Registered model 'sk-learn-desicion_tree-reg-model' already exists. Creating a new version of this model...\n",
      "2024/10/15 19:49:34 INFO mlflow.store.model_registry.abstract_store: Waiting up to 300 seconds for model version to finish creation. Model name: sk-learn-desicion_tree-reg-model, version 3\n",
      "Created version '3' of model 'sk-learn-desicion_tree-reg-model'.\n"
     ]
    },
    {
     "data": {
      "application/vnd.jupyter.widget-view+json": {
       "model_id": "8ccd46bfc4154421a625d4fd29fbf17d",
       "version_major": 2,
       "version_minor": 0
      },
      "text/plain": [
       "Downloading artifacts:   0%|          | 0/5 [00:00<?, ?it/s]"
      ]
     },
     "metadata": {},
     "output_type": "display_data"
    },
    {
     "name": "stderr",
     "output_type": "stream",
     "text": [
      "2024/10/15 19:49:35 INFO mlflow.models.evaluation.default_evaluator: Computing model predictions.\n",
      "2024/10/15 19:49:35 INFO mlflow.models.evaluation.default_evaluator: Testing metrics on first row...\n",
      "2024/10/15 19:49:35 WARNING mlflow.models.evaluation.default_evaluator: SHAP or matplotlib package is not installed, so model explainability insights will not be logged.\n",
      "2024/10/15 19:49:35 INFO mlflow.tracking._tracking_service.client: 🏃 View run desicion_tree at: http://mlflow-service:5000/#/experiments/556672555723861289/runs/87b44adafdf04e5e8bb1874c396f52e1.\n",
      "2024/10/15 19:49:35 INFO mlflow.tracking._tracking_service.client: 🧪 View experiment at: http://mlflow-service:5000/#/experiments/556672555723861289.\n",
      "2024/10/15 19:49:35 INFO mlflow.tracking._tracking_service.client: 🏃 View run @nokeryy at: http://mlflow-service:5000/#/experiments/556672555723861289/runs/d1f1dcf9dae14e4b947aa218dec373b1.\n",
      "2024/10/15 19:49:35 INFO mlflow.tracking._tracking_service.client: 🧪 View experiment at: http://mlflow-service:5000/#/experiments/556672555723861289.\n"
     ]
    }
   ],
   "source": [
    "with mlflow.start_run(run_name=\"@nokeryy\", experiment_id = my_experiment, description = \"parent\") as parent_run:\n",
    "    for model_name in models:\n",
    "        with mlflow.start_run(run_name=model_name, experiment_id=my_experiment, nested=True) as child_run:\n",
    "            model = models[model_name]\n",
    "\n",
    "            model.fit(pd.DataFrame(X_train), y_train)\n",
    "            prediction = model.predict(X_val)\n",
    "\n",
    "            eval_df = X_val.copy()\n",
    "            eval_df[\"target\"] = y_val\n",
    "        \n",
    "            signature = infer_signature(X_test, prediction)\n",
    "            model_info = mlflow.sklearn.log_model(model, \"linreg\", signature=signature, \n",
    "                                                  registered_model_name=f\"sk-learn-{model_name}-reg-model\")\n",
    "            mlflow.evaluate(\n",
    "                model=model_info.model_uri,\n",
    "                data=eval_df,\n",
    "                targets=\"target\",\n",
    "                model_type=\"regressor\",\n",
    "                evaluators=[\"default\"],\n",
    "            )"
   ]
  },
  {
   "cell_type": "code",
   "execution_count": null,
   "id": "77e5def5-ffe4-4458-90e9-b20ba9a84e00",
   "metadata": {},
   "outputs": [],
   "source": []
  }
 ],
 "metadata": {
  "kernelspec": {
   "display_name": "Python 3 (ipykernel)",
   "language": "python",
   "name": "python3"
  },
  "language_info": {
   "codemirror_mode": {
    "name": "ipython",
    "version": 3
   },
   "file_extension": ".py",
   "mimetype": "text/x-python",
   "name": "python",
   "nbconvert_exporter": "python",
   "pygments_lexer": "ipython3",
   "version": "3.11.4"
  }
 },
 "nbformat": 4,
 "nbformat_minor": 5
}
